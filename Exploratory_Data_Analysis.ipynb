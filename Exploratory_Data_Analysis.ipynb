{
 "cells": [
  {
   "cell_type": "markdown",
   "id": "caec9bee",
   "metadata": {},
   "source": [
    "## Exploratory Data Analysis"
   ]
  },
  {
   "cell_type": "code",
   "execution_count": 1,
   "id": "20be3252",
   "metadata": {},
   "outputs": [],
   "source": [
    "#import the necessary libraries\n",
    "import pandas as pd\n",
    "import numpy as np\n",
    "%matplotlib inline\n",
    "import matplotlib.pyplot as plt\n",
    "import seaborn as sns"
   ]
  },
  {
   "cell_type": "code",
   "execution_count": 2,
   "id": "40d8e8bb",
   "metadata": {},
   "outputs": [
    {
     "data": {
      "text/html": [
       "<div>\n",
       "<style scoped>\n",
       "    .dataframe tbody tr th:only-of-type {\n",
       "        vertical-align: middle;\n",
       "    }\n",
       "\n",
       "    .dataframe tbody tr th {\n",
       "        vertical-align: top;\n",
       "    }\n",
       "\n",
       "    .dataframe thead th {\n",
       "        text-align: right;\n",
       "    }\n",
       "</style>\n",
       "<table border=\"1\" class=\"dataframe\">\n",
       "  <thead>\n",
       "    <tr style=\"text-align: right;\">\n",
       "      <th></th>\n",
       "      <th>date</th>\n",
       "      <th>store</th>\n",
       "      <th>item</th>\n",
       "      <th>sales</th>\n",
       "    </tr>\n",
       "  </thead>\n",
       "  <tbody>\n",
       "    <tr>\n",
       "      <th>0</th>\n",
       "      <td>2013-01-01</td>\n",
       "      <td>1</td>\n",
       "      <td>1</td>\n",
       "      <td>13</td>\n",
       "    </tr>\n",
       "    <tr>\n",
       "      <th>1</th>\n",
       "      <td>2013-01-02</td>\n",
       "      <td>1</td>\n",
       "      <td>1</td>\n",
       "      <td>11</td>\n",
       "    </tr>\n",
       "    <tr>\n",
       "      <th>2</th>\n",
       "      <td>2013-01-03</td>\n",
       "      <td>1</td>\n",
       "      <td>1</td>\n",
       "      <td>14</td>\n",
       "    </tr>\n",
       "    <tr>\n",
       "      <th>3</th>\n",
       "      <td>2013-01-04</td>\n",
       "      <td>1</td>\n",
       "      <td>1</td>\n",
       "      <td>13</td>\n",
       "    </tr>\n",
       "    <tr>\n",
       "      <th>4</th>\n",
       "      <td>2013-01-05</td>\n",
       "      <td>1</td>\n",
       "      <td>1</td>\n",
       "      <td>10</td>\n",
       "    </tr>\n",
       "  </tbody>\n",
       "</table>\n",
       "</div>"
      ],
      "text/plain": [
       "         date  store  item  sales\n",
       "0  2013-01-01      1     1     13\n",
       "1  2013-01-02      1     1     11\n",
       "2  2013-01-03      1     1     14\n",
       "3  2013-01-04      1     1     13\n",
       "4  2013-01-05      1     1     10"
      ]
     },
     "execution_count": 2,
     "metadata": {},
     "output_type": "execute_result"
    }
   ],
   "source": [
    "#read the various datasets available(train and test dataset)\n",
    "df=pd.read_csv('train.csv')\n",
    "df.head()"
   ]
  },
  {
   "cell_type": "code",
   "execution_count": 3,
   "id": "1c184225",
   "metadata": {},
   "outputs": [
    {
     "data": {
      "text/plain": [
       "(913000, 4)"
      ]
     },
     "execution_count": 3,
     "metadata": {},
     "output_type": "execute_result"
    }
   ],
   "source": [
    "#checking shape of dataset\n",
    "df.shape"
   ]
  },
  {
   "cell_type": "code",
   "execution_count": 4,
   "id": "a990987a",
   "metadata": {},
   "outputs": [
    {
     "data": {
      "text/plain": [
       "date     object\n",
       "store     int64\n",
       "item      int64\n",
       "sales     int64\n",
       "dtype: object"
      ]
     },
     "execution_count": 4,
     "metadata": {},
     "output_type": "execute_result"
    }
   ],
   "source": [
    "df.dtypes"
   ]
  },
  {
   "cell_type": "markdown",
   "id": "1b19536d",
   "metadata": {},
   "source": [
    "Here date is an object. We need to convert it to datetime format for further analysis"
   ]
  },
  {
   "cell_type": "code",
   "execution_count": 5,
   "id": "e53b7837",
   "metadata": {},
   "outputs": [],
   "source": [
    "df['date']=pd.to_datetime(df['date'])"
   ]
  },
  {
   "cell_type": "code",
   "execution_count": 6,
   "id": "af5fad58",
   "metadata": {},
   "outputs": [
    {
     "data": {
      "text/plain": [
       "date     datetime64[ns]\n",
       "store             int64\n",
       "item              int64\n",
       "sales             int64\n",
       "dtype: object"
      ]
     },
     "execution_count": 6,
     "metadata": {},
     "output_type": "execute_result"
    }
   ],
   "source": [
    "df.dtypes"
   ]
  },
  {
   "cell_type": "code",
   "execution_count": 7,
   "id": "6a98f2c4",
   "metadata": {},
   "outputs": [
    {
     "data": {
      "text/html": [
       "<div>\n",
       "<style scoped>\n",
       "    .dataframe tbody tr th:only-of-type {\n",
       "        vertical-align: middle;\n",
       "    }\n",
       "\n",
       "    .dataframe tbody tr th {\n",
       "        vertical-align: top;\n",
       "    }\n",
       "\n",
       "    .dataframe thead th {\n",
       "        text-align: right;\n",
       "    }\n",
       "</style>\n",
       "<table border=\"1\" class=\"dataframe\">\n",
       "  <thead>\n",
       "    <tr style=\"text-align: right;\">\n",
       "      <th></th>\n",
       "      <th>date</th>\n",
       "      <th>store</th>\n",
       "      <th>item</th>\n",
       "      <th>sales</th>\n",
       "    </tr>\n",
       "  </thead>\n",
       "  <tbody>\n",
       "    <tr>\n",
       "      <th>0</th>\n",
       "      <td>2013-01-01</td>\n",
       "      <td>1</td>\n",
       "      <td>1</td>\n",
       "      <td>13</td>\n",
       "    </tr>\n",
       "    <tr>\n",
       "      <th>1</th>\n",
       "      <td>2013-01-02</td>\n",
       "      <td>1</td>\n",
       "      <td>1</td>\n",
       "      <td>11</td>\n",
       "    </tr>\n",
       "    <tr>\n",
       "      <th>2</th>\n",
       "      <td>2013-01-03</td>\n",
       "      <td>1</td>\n",
       "      <td>1</td>\n",
       "      <td>14</td>\n",
       "    </tr>\n",
       "    <tr>\n",
       "      <th>3</th>\n",
       "      <td>2013-01-04</td>\n",
       "      <td>1</td>\n",
       "      <td>1</td>\n",
       "      <td>13</td>\n",
       "    </tr>\n",
       "    <tr>\n",
       "      <th>4</th>\n",
       "      <td>2013-01-05</td>\n",
       "      <td>1</td>\n",
       "      <td>1</td>\n",
       "      <td>10</td>\n",
       "    </tr>\n",
       "  </tbody>\n",
       "</table>\n",
       "</div>"
      ],
      "text/plain": [
       "        date  store  item  sales\n",
       "0 2013-01-01      1     1     13\n",
       "1 2013-01-02      1     1     11\n",
       "2 2013-01-03      1     1     14\n",
       "3 2013-01-04      1     1     13\n",
       "4 2013-01-05      1     1     10"
      ]
     },
     "execution_count": 7,
     "metadata": {},
     "output_type": "execute_result"
    }
   ],
   "source": [
    "df.head()"
   ]
  },
  {
   "cell_type": "code",
   "execution_count": 8,
   "id": "eeb61e5b",
   "metadata": {},
   "outputs": [
    {
     "data": {
      "text/plain": [
       "date     0\n",
       "store    0\n",
       "item     0\n",
       "sales    0\n",
       "dtype: int64"
      ]
     },
     "execution_count": 8,
     "metadata": {},
     "output_type": "execute_result"
    }
   ],
   "source": [
    "#checking for null values in dataset\n",
    "df.isnull().sum()"
   ]
  },
  {
   "cell_type": "markdown",
   "id": "9acf9624",
   "metadata": {},
   "source": [
    "There are no null values present in the dataset"
   ]
  },
  {
   "cell_type": "code",
   "execution_count": 9,
   "id": "4dc3df3d",
   "metadata": {},
   "outputs": [
    {
     "data": {
      "text/plain": [
       "Timestamp('2013-01-01 00:00:00')"
      ]
     },
     "execution_count": 9,
     "metadata": {},
     "output_type": "execute_result"
    }
   ],
   "source": [
    "#check max and min date values in dataset\n",
    "df['date'].min()"
   ]
  },
  {
   "cell_type": "code",
   "execution_count": 10,
   "id": "7af9973b",
   "metadata": {},
   "outputs": [
    {
     "data": {
      "text/plain": [
       "Timestamp('2017-12-31 00:00:00')"
      ]
     },
     "execution_count": 10,
     "metadata": {},
     "output_type": "execute_result"
    }
   ],
   "source": [
    "df['date'].max()"
   ]
  },
  {
   "cell_type": "code",
   "execution_count": 11,
   "id": "9098f911",
   "metadata": {},
   "outputs": [
    {
     "data": {
      "text/plain": [
       "10"
      ]
     },
     "execution_count": 11,
     "metadata": {},
     "output_type": "execute_result"
    }
   ],
   "source": [
    "#number of unique stores\n",
    "df['store'].nunique()"
   ]
  },
  {
   "cell_type": "code",
   "execution_count": 12,
   "id": "75fe3174",
   "metadata": {},
   "outputs": [
    {
     "data": {
      "text/plain": [
       "50"
      ]
     },
     "execution_count": 12,
     "metadata": {},
     "output_type": "execute_result"
    }
   ],
   "source": [
    "#number of unique items\n",
    "df['item'].nunique()"
   ]
  },
  {
   "cell_type": "markdown",
   "id": "df6a80e4",
   "metadata": {},
   "source": [
    "### Feature Engineering"
   ]
  },
  {
   "cell_type": "code",
   "execution_count": 13,
   "id": "bb9bad8e",
   "metadata": {},
   "outputs": [],
   "source": [
    "#Create new columns based on date column\n",
    "df['month'] = df['date'].apply(lambda x:x.month_name())\n",
    "df['day_of_month'] = df['date'].apply(lambda x:x.day)\n",
    "df['day_of_week'] = df['date'].apply(lambda x:x.day_name())\n",
    "df['year'] = df['date'].apply(lambda x:x.year)\n",
    "df['quarter'] = df['date'].apply(lambda x:x.quarter)"
   ]
  },
  {
   "cell_type": "code",
   "execution_count": 14,
   "id": "0a03a6fb",
   "metadata": {},
   "outputs": [
    {
     "data": {
      "text/html": [
       "<div>\n",
       "<style scoped>\n",
       "    .dataframe tbody tr th:only-of-type {\n",
       "        vertical-align: middle;\n",
       "    }\n",
       "\n",
       "    .dataframe tbody tr th {\n",
       "        vertical-align: top;\n",
       "    }\n",
       "\n",
       "    .dataframe thead th {\n",
       "        text-align: right;\n",
       "    }\n",
       "</style>\n",
       "<table border=\"1\" class=\"dataframe\">\n",
       "  <thead>\n",
       "    <tr style=\"text-align: right;\">\n",
       "      <th></th>\n",
       "      <th>date</th>\n",
       "      <th>store</th>\n",
       "      <th>item</th>\n",
       "      <th>sales</th>\n",
       "      <th>month</th>\n",
       "      <th>day_of_month</th>\n",
       "      <th>day_of_week</th>\n",
       "      <th>year</th>\n",
       "      <th>quarter</th>\n",
       "    </tr>\n",
       "  </thead>\n",
       "  <tbody>\n",
       "    <tr>\n",
       "      <th>0</th>\n",
       "      <td>2013-01-01</td>\n",
       "      <td>1</td>\n",
       "      <td>1</td>\n",
       "      <td>13</td>\n",
       "      <td>January</td>\n",
       "      <td>1</td>\n",
       "      <td>Tuesday</td>\n",
       "      <td>2013</td>\n",
       "      <td>1</td>\n",
       "    </tr>\n",
       "    <tr>\n",
       "      <th>1</th>\n",
       "      <td>2013-01-02</td>\n",
       "      <td>1</td>\n",
       "      <td>1</td>\n",
       "      <td>11</td>\n",
       "      <td>January</td>\n",
       "      <td>2</td>\n",
       "      <td>Wednesday</td>\n",
       "      <td>2013</td>\n",
       "      <td>1</td>\n",
       "    </tr>\n",
       "    <tr>\n",
       "      <th>2</th>\n",
       "      <td>2013-01-03</td>\n",
       "      <td>1</td>\n",
       "      <td>1</td>\n",
       "      <td>14</td>\n",
       "      <td>January</td>\n",
       "      <td>3</td>\n",
       "      <td>Thursday</td>\n",
       "      <td>2013</td>\n",
       "      <td>1</td>\n",
       "    </tr>\n",
       "    <tr>\n",
       "      <th>3</th>\n",
       "      <td>2013-01-04</td>\n",
       "      <td>1</td>\n",
       "      <td>1</td>\n",
       "      <td>13</td>\n",
       "      <td>January</td>\n",
       "      <td>4</td>\n",
       "      <td>Friday</td>\n",
       "      <td>2013</td>\n",
       "      <td>1</td>\n",
       "    </tr>\n",
       "    <tr>\n",
       "      <th>4</th>\n",
       "      <td>2013-01-05</td>\n",
       "      <td>1</td>\n",
       "      <td>1</td>\n",
       "      <td>10</td>\n",
       "      <td>January</td>\n",
       "      <td>5</td>\n",
       "      <td>Saturday</td>\n",
       "      <td>2013</td>\n",
       "      <td>1</td>\n",
       "    </tr>\n",
       "  </tbody>\n",
       "</table>\n",
       "</div>"
      ],
      "text/plain": [
       "        date  store  item  sales    month  day_of_month day_of_week  year  \\\n",
       "0 2013-01-01      1     1     13  January             1     Tuesday  2013   \n",
       "1 2013-01-02      1     1     11  January             2   Wednesday  2013   \n",
       "2 2013-01-03      1     1     14  January             3    Thursday  2013   \n",
       "3 2013-01-04      1     1     13  January             4      Friday  2013   \n",
       "4 2013-01-05      1     1     10  January             5    Saturday  2013   \n",
       "\n",
       "   quarter  \n",
       "0        1  \n",
       "1        1  \n",
       "2        1  \n",
       "3        1  \n",
       "4        1  "
      ]
     },
     "execution_count": 14,
     "metadata": {},
     "output_type": "execute_result"
    }
   ],
   "source": [
    "df.head()"
   ]
  },
  {
   "cell_type": "code",
   "execution_count": 15,
   "id": "8381d913",
   "metadata": {},
   "outputs": [
    {
     "data": {
      "text/plain": [
       "Text(0.5, 1.0, 'Year-wise total sales')"
      ]
     },
     "execution_count": 15,
     "metadata": {},
     "output_type": "execute_result"
    },
    {
     "data": {
      "image/png": "[encoded data removed]",
      "text/plain": [
       "<Figure size 432x288 with 1 Axes>"
      ]
     },
     "metadata": {
      "needs_background": "light"
     },
     "output_type": "display_data"
    }
   ],
   "source": [
    "# total sales across all stores for all product for 5 years from 2013-2017\n",
    "# perform groupby\n",
    "df1 = df.groupby(['year']).agg(total_sales=(\"sales\", 'sum'))\n",
    "df1 = df1.reset_index()\n",
    "# plot barplot\n",
    "sns.barplot(x=\"year\",\n",
    "           y=\"total_sales\",\n",
    "           data=df1)\n",
    "plt.title('Year-wise total sales')"
   ]
  },
  {
   "cell_type": "markdown",
   "id": "bc7b395c",
   "metadata": {},
   "source": [
    "We can see an overall increase in sales across the years"
   ]
  },
  {
   "cell_type": "code",
   "execution_count": 16,
   "id": "2b93637d",
   "metadata": {},
   "outputs": [
    {
     "data": {
      "text/plain": [
       "Text(0.5, 1.0, 'Month-wise average sales')"
      ]
     },
     "execution_count": 16,
     "metadata": {},
     "output_type": "execute_result"
    },
    {
     "data": {
      "image/png": "[encoded data removed]",
      "text/plain": [
       "<Figure size 720x432 with 1 Axes>"
      ]
     },
     "metadata": {
      "needs_background": "light"
     },
     "output_type": "display_data"
    }
   ],
   "source": [
    "# average sales across all stores for all products across the months for 5 years from 2013-2017\n",
    "# perform groupby\n",
    "df1 = df.groupby(['month']).agg(total_sales=(\"sales\", 'mean'))\n",
    "df1 = df1.reset_index()\n",
    "# plot barplot\n",
    "fig, ax = plt.subplots(figsize=(10,6))\n",
    "sns.barplot(ax=ax,x=\"month\",\n",
    "           y=\"total_sales\",\n",
    "           data=df1,\n",
    "           order=['January', 'February', 'March', 'April', 'May', 'June', 'July',\n",
    "       'August', 'September', 'October', 'November', 'December'])\n",
    "plt.title('Month-wise average sales')"
   ]
  },
  {
   "cell_type": "markdown",
   "id": "421ccd78",
   "metadata": {},
   "source": [
    "The sales increases starting from january and peaks in July and then decreases till december with a slight increase in november "
   ]
  },
  {
   "cell_type": "code",
   "execution_count": 17,
   "id": "483117bd",
   "metadata": {},
   "outputs": [
    {
     "data": {
      "text/plain": [
       "Text(0.5, 1.0, 'Weekday-wise average sales')"
      ]
     },
     "execution_count": 17,
     "metadata": {},
     "output_type": "execute_result"
    },
    {
     "data": {
      "image/png": "[encoded data removed]",
      "text/plain": [
       "<Figure size 648x432 with 1 Axes>"
      ]
     },
     "metadata": {
      "needs_background": "light"
     },
     "output_type": "display_data"
    }
   ],
   "source": [
    "# average sales across all stores for all products across the week days for 5 years from 2013-2017\n",
    "# perform groupby\n",
    "df1 = df.groupby(['day_of_week']).agg(total_sales=(\"sales\", 'mean'))\n",
    "df1 = df1.reset_index()\n",
    "# plot barplot\n",
    "fig, ax = plt.subplots(figsize=(9,6))\n",
    "sns.barplot(ax=ax,x=\"day_of_week\",\n",
    "           y=\"total_sales\",\n",
    "           data=df1,\n",
    "           order=['Monday','Tuesday', 'Wednesday', 'Thursday', 'Friday', 'Saturday', 'Sunday'])\n",
    "plt.title('Weekday-wise average sales')"
   ]
  },
  {
   "cell_type": "markdown",
   "id": "a9a76258",
   "metadata": {},
   "source": [
    "The sales are highest during the weekends. Beginning of week Monday has lowest sales which keeps increasing across the days"
   ]
  },
  {
   "cell_type": "code",
   "execution_count": 18,
   "id": "c63812e3",
   "metadata": {},
   "outputs": [
    {
     "data": {
      "text/plain": [
       "Text(0.5, 1.0, 'Quarter-wise average sales')"
      ]
     },
     "execution_count": 18,
     "metadata": {},
     "output_type": "execute_result"
    },
    {
     "data": {
      "image/png": "[encoded data removed]",
      "text/plain": [
       "<Figure size 576x288 with 1 Axes>"
      ]
     },
     "metadata": {
      "needs_background": "light"
     },
     "output_type": "display_data"
    }
   ],
   "source": [
    "# average sales across all stores for all products across the quarters for 5 years from 2013-2017\n",
    "# perform groupby\n",
    "df1 = df.groupby(['quarter']).agg(total_sales=(\"sales\", 'mean'))\n",
    "df1 = df1.reset_index()\n",
    "# plot barplot\n",
    "fig, ax = plt.subplots(figsize=(8,4))\n",
    "sns.barplot(ax=ax,x=\"quarter\",\n",
    "           y=\"total_sales\",\n",
    "           data=df1)\n",
    "plt.title('Quarter-wise average sales')"
   ]
  },
  {
   "cell_type": "markdown",
   "id": "a464a200",
   "metadata": {},
   "source": [
    "Highest sales observed for 3rd quarter and lowest sales for 1st quarter"
   ]
  },
  {
   "cell_type": "code",
   "execution_count": 25,
   "id": "ecd50f06",
   "metadata": {},
   "outputs": [
    {
     "data": {
      "text/plain": [
       "Text(0.5, 1.0, 'Day-wise average sales')"
      ]
     },
     "execution_count": 25,
     "metadata": {},
     "output_type": "execute_result"
    },
    {
     "data": {
      "image/png": "[encoded data removed]",
      "text/plain": [
       "<Figure size 864x288 with 1 Axes>"
      ]
     },
     "metadata": {
      "needs_background": "light"
     },
     "output_type": "display_data"
    }
   ],
   "source": [
    "# average sales across all stores for all products across the quarters for 5 years from 2013-2017\n",
    "# perform groupby\n",
    "df1 = df.groupby(['day_of_month']).agg(total_sales=(\"sales\", 'mean'))\n",
    "df1 = df1.reset_index()\n",
    "df1['total_sales'].plot(xlim=[1,31],figsize=(12,4))\n",
    "plt.xticks(np.arange(min(df1['day_of_month']), max(df1['day_of_month'])+1, 1.0))\n",
    "plt.xlabel(\"Days of month\")\n",
    "plt.ylabel(\"Average sales\")\n",
    "plt.title('Day-wise average sales')"
   ]
  },
  {
   "cell_type": "markdown",
   "id": "4909b298",
   "metadata": {},
   "source": [
    "The average sales can be seen peaking towards the end of the month specially 28,29 of month"
   ]
  },
  {
   "cell_type": "code",
   "execution_count": 22,
   "id": "8bb6387c",
   "metadata": {},
   "outputs": [
    {
     "data": {
      "text/plain": [
       "Text(0.5, 1.0, 'Average sales based on stores')"
      ]
     },
     "execution_count": 22,
     "metadata": {},
     "output_type": "execute_result"
    },
    {
     "data": {
      "image/png": "[encoded data removed]",
      "text/plain": [
       "<Figure size 648x288 with 1 Axes>"
      ]
     },
     "metadata": {
      "needs_background": "light"
     },
     "output_type": "display_data"
    }
   ],
   "source": [
    "# total sales across each store for all products\n",
    "# perform groupby\n",
    "df1 = df.groupby(['store']).agg(total_sales=(\"sales\", 'mean'))\n",
    "df1 = df1.reset_index()\n",
    "# plot barplot\n",
    "fig, ax = plt.subplots(figsize=(9,4))\n",
    "sns.barplot(ax=ax,x=\"store\",\n",
    "           y=\"total_sales\",\n",
    "           data=df1)\n",
    "plt.title('Average sales based on stores')"
   ]
  },
  {
   "cell_type": "markdown",
   "id": "c9749ec4",
   "metadata": {},
   "source": [
    "The highest average sales can be observed for stores 2 and 8 and lowest sales for store 7"
   ]
  },
  {
   "cell_type": "code",
   "execution_count": 23,
   "id": "b811e6a3",
   "metadata": {},
   "outputs": [
    {
     "data": {
      "text/plain": [
       "Text(0.5, 1.0, 'Item-wise average sales')"
      ]
     },
     "execution_count": 23,
     "metadata": {},
     "output_type": "execute_result"
    },
    {
     "data": {
      "image/png": "[encoded data removed]",
      "text/plain": [
       "<Figure size 1440x432 with 1 Axes>"
      ]
     },
     "metadata": {
      "needs_background": "light"
     },
     "output_type": "display_data"
    }
   ],
   "source": [
    "# total sales across each store for all products\n",
    "# perform groupby\n",
    "df1 = df.groupby(['item']).agg(total_sales=(\"sales\", 'mean'))\n",
    "df1 = df1.reset_index()\n",
    "# plot barplot\n",
    "fig, ax = plt.subplots(figsize=(20,6))\n",
    "sns.barplot(ax=ax,x=\"item\",\n",
    "           y=\"total_sales\",\n",
    "           data=df1,order=df1.sort_values('total_sales',ascending=False).item)\n",
    "plt.title('Item-wise average sales')"
   ]
  },
  {
   "cell_type": "markdown",
   "id": "95d99974",
   "metadata": {},
   "source": [
    "The most sold items include item 15,28 and least sold item is item 5"
   ]
  },
  {
   "cell_type": "code",
   "execution_count": 24,
   "id": "c0fecf9c",
   "metadata": {},
   "outputs": [
    {
     "data": {
      "image/png": "[encoded data removed]",
      "text/plain": [
       "<Figure size 576x576 with 2 Axes>"
      ]
     },
     "metadata": {
      "needs_background": "light"
     },
     "output_type": "display_data"
    },
    {
     "data": {
      "text/plain": [
       "{'corr':                      store          item     sales     month  day_of_month  \\\n",
       " store         1.000000e+00 -1.185846e-20 -0.008170  0.000000  2.439455e-19   \n",
       " item         -1.185846e-20  1.000000e+00 -0.055998  0.000000 -5.810646e-19   \n",
       " sales        -8.170361e-03 -5.599807e-02  1.000000  0.330996  2.791264e-03   \n",
       " month         0.000000e+00  0.000000e+00  0.330996  1.000000  4.528717e-02   \n",
       " day_of_month  2.439455e-19 -5.810646e-19  0.002791  0.045287  1.000000e+00   \n",
       " day_of_week   0.000000e+00  0.000000e+00  0.225698  0.007330  6.334926e-03   \n",
       " year         -3.426248e-19 -1.029145e-18  0.182360  0.001339  5.841665e-04   \n",
       " quarter      -8.978549e-19 -2.018056e-19  0.093867  1.000000  1.252828e-02   \n",
       " \n",
       "               day_of_week          year       quarter  \n",
       " store            0.000000 -3.426248e-19 -8.978549e-19  \n",
       " item             0.000000 -1.029145e-18 -2.018056e-19  \n",
       " sales            0.225698  1.823597e-01  9.386691e-02  \n",
       " month            0.007330  1.338857e-03  1.000000e+00  \n",
       " day_of_month     0.006335  5.841665e-04  1.252828e-02  \n",
       " day_of_week      1.000000  3.375438e-03  3.873884e-03  \n",
       " year             0.003375  1.000000e+00 -5.231230e-04  \n",
       " quarter          0.003874 -5.231230e-04  1.000000e+00  ,\n",
       " 'ax': <AxesSubplot:title={'center':'Correlation Heatmap'}>}"
      ]
     },
     "execution_count": 24,
     "metadata": {},
     "output_type": "execute_result"
    }
   ],
   "source": [
    "#Correlation between various factors\n",
    "from dython import nominal\n",
    "df1=df.drop(columns=['date'])\n",
    "nominal.associations(df1, nominal_columns=['month', 'day_of_week'], numerical_columns=['store', 'item', 'sales', 'day_of_month',\n",
    " 'year', 'quarter'],mark_columns=False, nom_nom_assoc='cramer', num_num_assoc='pearson',figsize=(8,8), annot=True,\n",
    "fmt='.2f', cmap=None, sv_color='silver', cbar=True, vmax=1.0, vmin=None, plot=True, compute_only=False, clustering=False,\n",
    "title='Correlation Heatmap')"
   ]
  },
  {
   "cell_type": "code",
   "execution_count": null,
   "id": "35f46dfc",
   "metadata": {},
   "outputs": [],
   "source": []
  }
 ],
 "metadata": {
  "kernelspec": {
   "display_name": "Python 3 (ipykernel)",
   "language": "python",
   "name": "python3"
  },
  "language_info": {
   "codemirror_mode": {
    "name": "ipython",
    "version": 3
   },
   "file_extension": ".py",
   "mimetype": "text/x-python",
   "name": "python",
   "nbconvert_exporter": "python",
   "pygments_lexer": "ipython3",
   "version": "3.9.7"
  }
 },
 "nbformat": 4,
 "nbformat_minor": 5
}
